{
  "cells": [
    {
      "cell_type": "code",
      "execution_count": 1,
      "metadata": {},
      "outputs": [],
      "source": [
        "%%capture\n",
        "\n",
        "\n",
        "!git clone https://github.com/ultralytics/yolov5\n",
        "%cd yolov5\n",
        "!git reset --hard 886f1c03d839575afecb059accf74296fad395b6\n",
        "!pip install -r requirements.txt"
      ]
    },
    {
      "cell_type": "code",
      "execution_count": null,
      "metadata": {
        "id": "KwbIpkSpYIef"
      },
      "outputs": [],
      "source": [
        "%%capture\n",
        "\n",
        "%cd /content\n",
        "!curl -L \"https://public.roboflow.com/ds/ZOEdOs1dLv?key=4ZGGms5agy\" > roboflow.zip; unzip roboflow.zip; rm roboflow.zip\n",
        "\n",
        "## If prompted, it may want you to replace the files you already have may require you to select if you want to replace them.\n",
        "## [y]es, [n]o, [A]ll, [N]one, [r]ename: "
      ]
    },
    {
      "cell_type": "code",
      "execution_count": null,
      "metadata": {
        "id": "J7Fbb5VyY1XB"
      },
      "outputs": [],
      "source": [
        "import torch\n",
        "\n",
        "from IPython.display import Image, clear_output\n",
        "print('Setup complete. Using torch %s %s' % (torch.__version__, torch.cuda.get_device_properties(0) if torch.cuda.is_available() else 'CPU'))"
      ]
    },
    {
      "cell_type": "code",
      "execution_count": null,
      "metadata": {
        "id": "qNx05GMkZ3Gu"
      },
      "outputs": [],
      "source": [
        "%cat data.yaml"
      ]
    },
    {
      "cell_type": "code",
      "execution_count": null,
      "metadata": {
        "id": "fVpsLv1OdEFp"
      },
      "outputs": [],
      "source": [
        "import yaml\n",
        "with open(\"data.yaml\", 'r') as stream:\n",
        "    num_classes = str(yaml.safe_load(stream)['nc'])\n",
        "with open(\"data.yaml\", 'r') as stream:\n",
        "    names = str(yaml.safe_load(stream)['names'])"
      ]
    }
  ],
  "metadata": {
    "colab": {
      "collapsed_sections": [],
      "name": "ASL.ipynb",
      "provenance": []
    },
    "gpuClass": "standard",
    "kernelspec": {
      "display_name": "Python 3.9.13 64-bit",
      "language": "python",
      "name": "python3"
    },
    "language_info": {
      "codemirror_mode": {
        "name": "ipython",
        "version": 3
      },
      "file_extension": ".py",
      "mimetype": "text/x-python",
      "name": "python",
      "nbconvert_exporter": "python",
      "pygments_lexer": "ipython3",
      "version": "3.9.13"
    },
    "vscode": {
      "interpreter": {
        "hash": "156b6e445808b07dc40aa5a8e66ccf91c9fbe531dfe1445bc12a4896e0fba728"
      }
    }
  },
  "nbformat": 4,
  "nbformat_minor": 0
}
